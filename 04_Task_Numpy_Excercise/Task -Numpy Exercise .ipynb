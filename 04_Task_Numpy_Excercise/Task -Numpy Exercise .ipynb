{
 "cells": [
  {
   "cell_type": "markdown",
   "metadata": {},
   "source": [
    "## Assignments\n",
    "\n",
    "## File : Numpy Excersice 1\n",
    "\n",
    "### Topic : Exercise 1-3\n",
    "\n",
    "#### Submitted by: Anoop V H\n",
    "\n",
    "##### Version : 1.0\n",
    "##### Date's:\n",
    "##### Start date of assignment : may 12, 2020\n",
    "##### First Submission date : May 14,2020"
   ]
  },
  {
   "cell_type": "markdown",
   "metadata": {},
   "source": [
    "### Q1. Find A transpose "
   ]
  },
  {
   "cell_type": "code",
   "execution_count": 1,
   "metadata": {},
   "outputs": [
    {
     "name": "stdout",
     "output_type": "stream",
     "text": [
      "Matrix A= \n",
      " [[3 4 5]\n",
      " [2 3 1]\n",
      " [2 1 2]] \n",
      " \n",
      " Transpose of A = \n",
      " [[3 2 2]\n",
      " [4 3 1]\n",
      " [5 1 2]]\n"
     ]
    }
   ],
   "source": [
    "#importing Numpy\n",
    "import numpy as np\n",
    "\n",
    "#Creating Matrix A with given elements\n",
    "matA=np.matrix([[3,4,5],[2,3,1],[2,1,2]])\n",
    "\n",
    "#calculating the Transpose of the matrix A by use of Numpy Transpose method\n",
    "trA=np.transpose(matA)\n",
    "\n",
    "print(\"Matrix A= \\n\",matA,\"\\n \\n Transpose of A = \\n\",trA)"
   ]
  },
  {
   "cell_type": "code",
   "execution_count": 2,
   "metadata": {},
   "outputs": [
    {
     "name": "stdout",
     "output_type": "stream",
     "text": [
      "Matrix B=\n",
      " [[2 4]\n",
      " [1 2]\n",
      " [3 1]]\n"
     ]
    }
   ],
   "source": [
    "#Creating Matrix B with given elements \n",
    "matB=np.matrix([[2,4],[1,2],[3,1]])\n",
    "print(\"Matrix B=\\n\",matB)"
   ]
  },
  {
   "cell_type": "code",
   "execution_count": 3,
   "metadata": {},
   "outputs": [
    {
     "name": "stdout",
     "output_type": "stream",
     "text": [
      "Result of Matrix multiplication A*B \n",
      " [[25 25]\n",
      " [10 15]\n",
      " [11 12]]\n"
     ]
    }
   ],
   "source": [
    "print(\"Result of Matrix multiplication A*B \\n\",matA*matB)"
   ]
  },
  {
   "cell_type": "markdown",
   "metadata": {},
   "source": [
    "### Q2   Here are the salary details of employees. The HR uses a prediction scale of 3 lakhs plus 2 lakhs for every year as the salary. Calculate manually using numpy the sum of square errors in prediction of salary."
   ]
  },
  {
   "cell_type": "code",
   "execution_count": 4,
   "metadata": {},
   "outputs": [
    {
     "name": "stdout",
     "output_type": "stream",
     "text": [
      "Salary Details: \n",
      " \n",
      " [[125.    2.    6.9]\n",
      " [128.    4.   12.2]\n",
      " [132.    3.    9.5]\n",
      " [145.    1.    4.9]] \n",
      " \n",
      "Predicted Salary :\n",
      " \n",
      " [ 7. 11.  9.  5.] \n",
      " \n",
      "Erros in the prediction :\n",
      " \n",
      " [-0.1  1.2  0.5 -0.1] \n",
      " \n",
      "Sum of Square Erros :   2.25\n"
     ]
    }
   ],
   "source": [
    "#importing numpy \n",
    "import numpy as np\n",
    "\n",
    "#Salary details are enterd to the array in the following pattern\n",
    "#       [\"Employee_id\",\"Years_of_exp\",\"Salary_in_lakhs\"]\n",
    "\n",
    "salaryDetails=np.array([[125,2,6.9],[128,4,12.2],[132,3,9.5],[145,1,4.9]])\n",
    "\n",
    "#creating another numpy arrray which holds the predicted salary\n",
    "predictedSalary=3+salaryDetails[:,1]*2\n",
    "\n",
    "#Calculating the error in the prediction \n",
    "errors=salaryDetails[:,2]-predictedSalary\n",
    "\n",
    "#Calculating Sum of Square errors\n",
    "sumofSuqare=(sum(errors))**2\n",
    "\n",
    "print(\"Salary Details: \\n \\n\",salaryDetails,\"\\n \\nPredicted Salary :\\n \\n\"\n",
    "      ,predictedSalary,\"\\n \\nErros in the prediction :\\n \\n\",errors,\"\\n \\nSum of Square Erros :  \",sumofSuqare)"
   ]
  },
  {
   "cell_type": "markdown",
   "metadata": {},
   "source": [
    "### Q 3\n",
    "\n",
    "#### import numpy as np \n",
    "#### ar1=np.array([1,3,5,6,4,7])\n",
    "#### ar2 = ar1 + 3\n",
    "#### print (ar2)\n",
    "\n",
    "#### What is the expected output of the following\n",
    "\n",
    "(1) print(ar1[1])\n",
    "\n",
    "(2) print(ar1[1:3])\n",
    "\n",
    "(3) print(ar1[:3])\n",
    "\n",
    "(4) print(ar1[-3])\n",
    "\n",
    "(5) print(ar1[-1:3])"
   ]
  },
  {
   "cell_type": "code",
   "execution_count": 5,
   "metadata": {},
   "outputs": [
    {
     "name": "stdout",
     "output_type": "stream",
     "text": [
      "Answers: \n",
      "(1) 3\n",
      "(2) 3 5\n",
      "(3) 1 3 5\n",
      "(4) 6\n",
      "(5) _____\n",
      "\n"
     ]
    }
   ],
   "source": [
    "#Answers\n",
    "\n",
    "print(\"Answers: \\n(1) 3\\n(2) 3 5\\n(3) 1 3 5\\n(4) 6\\n(5) _____\\n\")"
   ]
  }
 ],
 "metadata": {
  "kernelspec": {
   "display_name": "Python 3",
   "language": "python",
   "name": "python3"
  },
  "language_info": {
   "codemirror_mode": {
    "name": "ipython",
    "version": 3
   },
   "file_extension": ".py",
   "mimetype": "text/x-python",
   "name": "python",
   "nbconvert_exporter": "python",
   "pygments_lexer": "ipython3",
   "version": "3.7.4"
  }
 },
 "nbformat": 4,
 "nbformat_minor": 2
}
