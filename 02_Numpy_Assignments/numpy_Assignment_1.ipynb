{
 "cells": [
  {
   "cell_type": "markdown",
   "metadata": {},
   "source": [
    "## Assignments\n",
    "\n",
    "## File : Numpy Assignment 1\n",
    "\n",
    "### Topic : Qusetion 1- 7\n",
    "\n",
    "#### Submitted by: Anoop V H\n",
    "\n",
    "##### Version : 1.0\n",
    "##### Date's:\n",
    "##### Start date of assignment : Feb 13, 2020\n",
    "##### First Submission date : Feb 16,2020"
   ]
  },
  {
   "cell_type": "markdown",
   "metadata": {},
   "source": [
    "## Question 1 :-Write a python program to take a 3X3 matrix as a user input. Convert the matrix into numpy array. Print the matrix, rank, shape of the matrix. ?"
   ]
  },
  {
   "cell_type": "code",
   "execution_count": 1,
   "metadata": {},
   "outputs": [
    {
     "name": "stdout",
     "output_type": "stream",
     "text": [
      "1\n",
      "2\n",
      "3\n",
      "4\n",
      "5\n",
      "6\n",
      "7\n",
      "8\n",
      "9\n",
      "<class 'numpy.ndarray'>\n",
      "Matrix: \n",
      " [[1 2 3]\n",
      " [4 5 6]\n",
      " [7 8 9]]\n",
      "Range :  2\n",
      "Shape :  (3, 3)\n"
     ]
    }
   ],
   "source": [
    "#way 1\n",
    "\n",
    "import numpy as np\n",
    "#raw = int(input(\"Enter the no of Raws : \\n\"))\n",
    "#column = int(input(\"Enter the no of Column : \\n\"))\n",
    "raw,column=3,3\n",
    "mat=[]\n",
    "for i in range(raw*column):\n",
    "    a=int(input())\n",
    "    mat.append(a)\n",
    "#mat=np.array(mat).reshape(raw,column)\n",
    "mat=np.matrix(mat).reshape(raw,column)\n",
    "m_array=np.array(mat)\n",
    "print(type(m_array))\n",
    "\n",
    "print(\"Matrix: \\n\",m_array)\n",
    "print(\"Range : \",np.ndim(mat))\n",
    "print(\"Shape : \",np.shape(mat))"
   ]
  },
  {
   "cell_type": "code",
   "execution_count": 2,
   "metadata": {},
   "outputs": [
    {
     "name": "stdout",
     "output_type": "stream",
     "text": [
      "Enter the matrix elements (in raw wise and without space)\n",
      "123456789\n",
      "(3, 3)\n",
      "Matrix: \n",
      " [[1 2 3]\n",
      " [4 5 6]\n",
      " [7 8 9]]\n",
      "Range :  2\n",
      "Shape :  (3, 3)\n"
     ]
    }
   ],
   "source": [
    "#way 2\n",
    "\n",
    "import numpy as np\n",
    "#raw = int(input(\"Enter the no of Raws : \\n\"))\n",
    "#column = int(input(\"Enter the no of Column : \\n\"))\n",
    "raw,column=3,3\n",
    "#Data entering section\n",
    "mat=[3*3]\n",
    "print(\"Enter the matrix elements (in raw wise and without space)\")\n",
    "mat=map(int,input()) # using map function recevice int values\n",
    "\n",
    "#converting map to list and then to Numpy matrix and reshaping it\n",
    "mat=np.matrix(list(mat)).reshape(raw,column)\n",
    "\n",
    "#converting the numpy matrix to numpy array\n",
    "m_array=np.array(mat)\n",
    "\n",
    "#printing the results\n",
    "\n",
    "print(np.shape(mat))\n",
    "print(\"Matrix: \\n\",m_array)\n",
    "print(\"Range : \",np.ndim(mat))\n",
    "print(\"Shape : \",np.shape(mat))\n",
    "\n",
    "#enter the matrix values without space. \n",
    "#fault identified : Only single digit values can be entered through this way"
   ]
  },
  {
   "cell_type": "markdown",
   "metadata": {},
   "source": [
    "## Question 2 :- Write a function that generates 10 integers and use it to build an array "
   ]
  },
  {
   "cell_type": "code",
   "execution_count": 3,
   "metadata": {},
   "outputs": [
    {
     "name": "stdout",
     "output_type": "stream",
     "text": [
      "[ 38  69 239 476  50 285 408 391 511 104] \n",
      " (10,)\n"
     ]
    }
   ],
   "source": [
    "import numpy as np\n",
    "\n",
    "# 2nd random int function select a random int value and this is taken as the highest limit of the 1st funciton and it generates\n",
    "#10 values between that number and zero \n",
    "array=np.random.randint(np.random.randint(1000), size=10)\n",
    "print(array,\"\\n\",array.shape)"
   ]
  },
  {
   "cell_type": "markdown",
   "metadata": {},
   "source": [
    "## Question 3 :- Create a random vector (1D array) of size 10 and sort it "
   ]
  },
  {
   "cell_type": "code",
   "execution_count": 4,
   "metadata": {},
   "outputs": [
    {
     "name": "stdout",
     "output_type": "stream",
     "text": [
      "[144, 152, 172, 242, 276, 322, 355, 466, 470, 479]\n"
     ]
    }
   ],
   "source": [
    "import numpy as np\n",
    "#creating random array\n",
    "array=np.random.randint(np.random.randint(1000), size=10)\n",
    "#sorting it by using sorted funciton\n",
    "print(sorted(array))\n",
    "#print(array,\"\\n\",array.shape)"
   ]
  },
  {
   "cell_type": "markdown",
   "metadata": {},
   "source": [
    "## Question 4 :- Write a Python program to generate five random numbers from the normal distribution.\n",
    "#### [Hint: use np.random.normal] "
   ]
  },
  {
   "cell_type": "code",
   "execution_count": 5,
   "metadata": {},
   "outputs": [
    {
     "name": "stdout",
     "output_type": "stream",
     "text": [
      "[ 0.06658815  0.06172988  0.10781974  0.08866218 -0.02826081]\n"
     ]
    }
   ],
   "source": [
    "import numpy as np\n",
    "# generating random number bet zero and 0.1\n",
    "randVal=np.random.normal(0,0.1,(5))\n",
    "print(randVal)"
   ]
  },
  {
   "cell_type": "markdown",
   "metadata": {},
   "source": [
    "## Question 5 :-\n",
    "### Write a numpy program program to add and subtract two random matrices. The size of the matrix will a user input. All the matrix element should be a positive integer value. Suppose 'A' and 'B' are two matrix. All the value of 'A' matrix cannot be greater than 10 and values of 'B' matrix cannot be greater than 20. "
   ]
  },
  {
   "cell_type": "code",
   "execution_count": 6,
   "metadata": {},
   "outputs": [
    {
     "name": "stdout",
     "output_type": "stream",
     "text": [
      "Enter the no of raws in matrix : \n",
      "3\n",
      "Enter the no of Column's  in matrix : \n",
      "3\n",
      "\n",
      "Matrix A:\n",
      " [[5 3 7]\n",
      " [4 0 7]\n",
      " [1 4 9]] \n",
      "\n",
      "Matrix B:\n",
      " [[16 10 16]\n",
      " [11 18 17]\n",
      " [10 18  8]] \n",
      " \n",
      "Sum :\n",
      " [[21 13 23]\n",
      " [15 18 24]\n",
      " [11 22 17]] \n",
      "\n",
      "Difference :\n",
      " [[-11  -7  -9]\n",
      " [ -7 -18 -10]\n",
      " [ -9 -14   1]]\n"
     ]
    },
    {
     "data": {
      "text/plain": [
       "numpy.matrix"
      ]
     },
     "execution_count": 6,
     "metadata": {},
     "output_type": "execute_result"
    }
   ],
   "source": [
    "#Ar no of Raw\n",
    "#Ac no of columns \n",
    "Ar=int(input(\"Enter the no of raws in matrix : \\n\"))\n",
    "Ac=int(input(\"Enter the no of Column's  in matrix : \\n\"))\n",
    "\n",
    "#createing radom matrixes with conditions specified\n",
    "\n",
    "A=np.random.randint(0,10,(Ar*Ac)).reshape(Ar,Ac)\n",
    "A=np.matrix(A)\n",
    "B=np.random.randint(0,20,(Ar*Ac)).reshape(Ar,Ac)\n",
    "B=np.matrix(B)\n",
    "\n",
    "#computing results\n",
    "Sum=A+B\n",
    "Diff=A-B\n",
    "\n",
    "#printing the results\n",
    "print(\"\\nMatrix A:\\n\",A,\"\\n\")\n",
    "print(\"Matrix B:\\n\",B,\"\\n \\nSum :\\n\",Sum,\"\\n\\nDifference :\\n\",Diff)\n",
    "type(A)"
   ]
  },
  {
   "cell_type": "markdown",
   "metadata": {},
   "source": [
    "## Question 6 :-\n",
    "### Write a numpy program program to multiply two random matrices. The size of the matrices will a user input. All the matrix element should be a positive integer value. Suppose 'A' and 'B' are two matrix. All the value of 'A', 'B' matrices cannot be greater than 10.  "
   ]
  },
  {
   "cell_type": "code",
   "execution_count": 7,
   "metadata": {},
   "outputs": [
    {
     "name": "stdout",
     "output_type": "stream",
     "text": [
      "Enter the no of Sizes of matrces (Seperated by a space)x : \n",
      "1 2 2 1\n",
      "\n",
      "Matrix : A \n",
      " [[3 7]] \n",
      "\n",
      " Matrix : B \n",
      " [[1]\n",
      " [5]] \n",
      "Result \n",
      "\n",
      " [[38]]\n"
     ]
    }
   ],
   "source": [
    "import numpy as np  #Numpy is imported as np\n",
    "\n",
    "Ar,Ac,Br,Bc=map(int,input(\"Enter the no of Sizes of matrces (Seperated by a space)x : \\n\").split())\n",
    "\n",
    "#Ar,Ac are the raw and column of matrix A simillarly Br and Bc are raw and column of matrix B \n",
    "\n",
    "A=np.random.randint(0,10,(Ar*Ac)).reshape(Ar,Ac) #Creating the matrix of given size with the random elements ie below 10\n",
    "B=np.random.randint(0,10,(Br*Bc)).reshape(Br,Bc)  #Creating the matrix of given size with the random elements ie below 10\n",
    "\n",
    "mulAb= np.matmul(A,B)            #matrix multiplication in numpy\n",
    "\n",
    "print(\"\\nMatrix : A \\n\",A,\"\\n\\n\",\"Matrix : B \\n\",B,\"\\nResult \\n\\n\",mulAb) #printing the result in the prescrirbed format"
   ]
  },
  {
   "cell_type": "markdown",
   "metadata": {},
   "source": [
    "# Question 7 :-\n",
    "### Write a python program 4.py to take nXm matrix as a user input. 'n' and 'm' are command line argument which are separated by a space.\n",
    "### Where n >= 3 and 0>=m<=7. If this condition is false, ask the user to enter the 'n' and 'm' again. Create a zero matrix with same dimension and convert all columns in the matrix into a fibonacci series.\n",
    "### For ith column, the first element should be the sum of i+(i-1) value. Print this matrix on the terminal. ?"
   ]
  },
  {
   "cell_type": "code",
   "execution_count": 8,
   "metadata": {},
   "outputs": [
    {
     "name": "stdout",
     "output_type": "stream",
     "text": [
      "Enter the N and M of the NxM matrix : \n",
      "5 6\n",
      "[[ 1.  3.  5.  7.  9. 11.]\n",
      " [ 0.  1.  1.  2.  3.  5.]\n",
      " [ 0.  1.  1.  2.  3.  5.]\n",
      " [ 0.  1.  1.  2.  3.  5.]\n",
      " [ 0.  1.  1.  2.  3.  5.]]\n"
     ]
    }
   ],
   "source": [
    "import numpy as np\n",
    "\n",
    "def fibo(n): \n",
    "    a=0\n",
    "    b=1\n",
    "    fib=np.array([a,b])\n",
    "    if(n<0): \n",
    "        print(\"Incorrect input\") \n",
    "    elif (n==0): \n",
    "        return a \n",
    "    elif (n==1): \n",
    "        return b \n",
    "    else: \n",
    "        for i in range(2,n): \n",
    "            c=a+b\n",
    "            #print(c)\n",
    "            a=b \n",
    "            b=c \n",
    "            fib=np.append(fib,c)\n",
    "        return fib \n",
    "\n",
    "while True:\n",
    "    n,m=map(int,input(\"Enter the N and M of the NxM matrix : \\n\").split())\n",
    "    if (not(n>=3 and (0<m<=7))):\n",
    "        continue\n",
    "    else:\n",
    "        matA=np.zeros((n,m))\n",
    "        \n",
    "        for i in range(m):\n",
    "            i+=1\n",
    "            matA[0,i-1:i]=i+(i-1)\n",
    "        for i in range(1,n):\n",
    "            matA[i:,:]=fibo(m)\n",
    "        print(matA)\n",
    "        break"
   ]
  },
  {
   "cell_type": "code",
   "execution_count": null,
   "metadata": {},
   "outputs": [],
   "source": []
  }
 ],
 "metadata": {
  "kernelspec": {
   "display_name": "Python 3",
   "language": "python",
   "name": "python3"
  },
  "language_info": {
   "codemirror_mode": {
    "name": "ipython",
    "version": 3
   },
   "file_extension": ".py",
   "mimetype": "text/x-python",
   "name": "python",
   "nbconvert_exporter": "python",
   "pygments_lexer": "ipython3",
   "version": "3.7.4"
  }
 },
 "nbformat": 4,
 "nbformat_minor": 2
}
