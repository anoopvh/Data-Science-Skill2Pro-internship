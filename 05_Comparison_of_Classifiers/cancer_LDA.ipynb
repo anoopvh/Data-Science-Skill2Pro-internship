{
 "cells": [
  {
   "cell_type": "markdown",
   "metadata": {},
   "source": [
    "## Assignments -25/05/2020\n",
    "\n",
    "## File : cancer_LDA\n",
    "\n",
    "### Topic : Classification_models-master\n",
    "\n",
    "#### Submitted by: Anoop V H\n",
    "\n",
    "##### Version :\n",
    "\n",
    "##### Date : 27/05/2020"
   ]
  },
  {
   "cell_type": "code",
   "execution_count": 1,
   "metadata": {},
   "outputs": [],
   "source": [
    "import numpy as np\n",
    "import pandas as pd\n",
    "from sklearn.model_selection import train_test_split\n",
    "from sklearn.preprocessing import StandardScaler\n",
    "from sklearn.decomposition import PCA\n",
    "import matplotlib.pyplot as plt\n",
    "from sklearn.discriminant_analysis import LinearDiscriminantAnalysis\n",
    "from sklearn.metrics import roc_auc_score\n",
    "from sklearn import metrics\n",
    "from sklearn.metrics import confusion_matrix\n",
    "from sklearn.metrics import f1_score\n",
    "from sklearn.metrics import accuracy_score\n",
    "from sklearn.metrics import precision_score\n",
    "from sklearn.metrics import recall_score"
   ]
  },
  {
   "cell_type": "code",
   "execution_count": 2,
   "metadata": {},
   "outputs": [],
   "source": [
    "#%% import dataset \n",
    "df = pd.read_csv(\"E:\\\\1\\Assignments\\\\data.csv\")\n"
   ]
  },
  {
   "cell_type": "code",
   "execution_count": 3,
   "metadata": {},
   "outputs": [],
   "source": [
    "df.drop(df.columns[[-1, 0]], axis=1, inplace=True)\n",
    "df['diagnosis'].replace('B',0,inplace=True)\n",
    "df['diagnosis'].replace('M',1,inplace=True)"
   ]
  },
  {
   "cell_type": "code",
   "execution_count": 4,
   "metadata": {},
   "outputs": [],
   "source": [
    "#SPLIT INTO TRAIN AND TEST\n",
    "X, y = df.iloc[:, 1:].values, df.iloc[:, 0].values\n",
    "X_train, X_test, y_train, y_test = train_test_split(X, y, test_size=0.3, random_state=0)"
   ]
  },
  {
   "cell_type": "code",
   "execution_count": 5,
   "metadata": {},
   "outputs": [],
   "source": [
    "#STANDRIZE DATA\n",
    "scaler = StandardScaler()"
   ]
  },
  {
   "cell_type": "code",
   "execution_count": 6,
   "metadata": {},
   "outputs": [
    {
     "data": {
      "text/plain": [
       "StandardScaler(copy=True, with_mean=True, with_std=True)"
      ]
     },
     "execution_count": 6,
     "metadata": {},
     "output_type": "execute_result"
    }
   ],
   "source": [
    "# Fit on training set only.\n",
    "scaler.fit(X_train)"
   ]
  },
  {
   "cell_type": "code",
   "execution_count": 7,
   "metadata": {},
   "outputs": [],
   "source": [
    "std_train = scaler.transform(X_train)\n",
    "std_test = scaler.transform(X_test)"
   ]
  },
  {
   "cell_type": "code",
   "execution_count": 8,
   "metadata": {},
   "outputs": [],
   "source": [
    "#PCA TO CAPTURE 95% of VARIANCE IN DATA\n",
    "pca = PCA(.95)"
   ]
  },
  {
   "cell_type": "code",
   "execution_count": 9,
   "metadata": {},
   "outputs": [
    {
     "data": {
      "text/plain": [
       "PCA(copy=True, iterated_power='auto', n_components=0.95, random_state=None,\n",
       "    svd_solver='auto', tol=0.0, whiten=False)"
      ]
     },
     "execution_count": 9,
     "metadata": {},
     "output_type": "execute_result"
    }
   ],
   "source": [
    "pca.fit(std_train)"
   ]
  },
  {
   "cell_type": "code",
   "execution_count": 10,
   "metadata": {},
   "outputs": [],
   "source": [
    "X_train = pca.transform(std_train)\n",
    "X_test = pca.transform(std_test)"
   ]
  },
  {
   "cell_type": "code",
   "execution_count": 11,
   "metadata": {},
   "outputs": [],
   "source": [
    "#VISUALIZING DATA USING FIRST 2 PCA\n",
    "pri_Df = pd.DataFrame(data = -1*X_train[:,0:2], columns = ['principal component 1', 'principal component 2'])\n",
    "PCALab=pd.DataFrame(data = y_train, columns = ['Labels'])\n",
    "finalDf= pd.concat([pri_Df, PCALab], axis = 1)"
   ]
  },
  {
   "cell_type": "code",
   "execution_count": 12,
   "metadata": {},
   "outputs": [
    {
     "data": {
      "image/png": "[encoded data removed]",
      "text/plain": [
       "<Figure size 432x288 with 1 Axes>"
      ]
     },
     "metadata": {
      "needs_background": "light"
     },
     "output_type": "display_data"
    }
   ],
   "source": [
    "tar = [0, 1]\n",
    "colors = ['gray','black']\n",
    "figure = plt.figure()\n",
    "a = figure.add_subplot(1,1,1)\n",
    "a.set_xlabel('Principal Component 1', fontsize = 10)\n",
    "a.set_ylabel('Principal Component 2', fontsize = 10)\n",
    "a.set_title('2 component PCA', fontsize = 10)\n",
    "for t, col in zip(tar,colors):\n",
    "    x = finalDf['Labels'] == t\n",
    "    a.scatter(finalDf.loc[x, 'principal component 1'],finalDf.loc[x, 'principal component 2'],c = col,s = 50)\n",
    "a.legend(tar)\n",
    "a.grid(True)\n",
    "plt.show()"
   ]
  },
  {
   "cell_type": "code",
   "execution_count": 13,
   "metadata": {},
   "outputs": [
    {
     "data": {
      "text/plain": [
       "(1.0, 0.873015873015873, 0.9322033898305084, 0.9532163742690059)"
      ]
     },
     "execution_count": 13,
     "metadata": {},
     "output_type": "execute_result"
    }
   ],
   "source": [
    "lda = LinearDiscriminantAnalysis()\n",
    "lda.fit(X_train, y_train)\n",
    "score = lda.score(X_test, y_test)\n",
    "pred = lda.predict(X_test)\n",
    "prob=lda.predict_proba(X_test)\n",
    "auc = roc_auc_score(y_test, pred)\n",
    "# test error\n",
    "acc = metrics.accuracy_score(y_test, pred)\n",
    "acc\n",
    "pre=metrics.precision_score(y_test, pred)\n",
    "pre\n",
    "f1=metrics.f1_score(y_test, pred)\n",
    "f1\n",
    "recall=metrics.recall_score(y_test, pred)\n",
    "pre,recall,f1,acc"
   ]
  },
  {
   "cell_type": "code",
   "execution_count": 14,
   "metadata": {},
   "outputs": [
    {
     "data": {
      "image/png": "[encoded data removed]",
      "text/plain": [
       "<Figure size 432x288 with 1 Axes>"
      ]
     },
     "metadata": {
      "needs_background": "light"
     },
     "output_type": "display_data"
    }
   ],
   "source": [
    "fpr, tpr, thresholds = metrics.roc_curve(y_test, prob[:,1])\n",
    "plt.plot(fpr, tpr)\n",
    "plt.show()"
   ]
  },
  {
   "cell_type": "code",
   "execution_count": 15,
   "metadata": {},
   "outputs": [
    {
     "data": {
      "text/plain": [
       "array([[108,   0],\n",
       "       [  8,  55]], dtype=int64)"
      ]
     },
     "execution_count": 15,
     "metadata": {},
     "output_type": "execute_result"
    }
   ],
   "source": [
    "#CALCULATE CONFUSION MATRIX\n",
    "conf_mat = confusion_matrix(y_test, pred)\n",
    "conf_mat"
   ]
  },
  {
   "cell_type": "code",
   "execution_count": 16,
   "metadata": {},
   "outputs": [
    {
     "data": {
      "text/plain": [
       "(array([[108,   0],\n",
       "        [  8,  55]], dtype=int64),\n",
       " 1.0,\n",
       " 0.9310344827586207,\n",
       " 0.9642857142857143,\n",
       " 0.9532163742690059)"
      ]
     },
     "execution_count": 16,
     "metadata": {},
     "output_type": "execute_result"
    }
   ],
   "source": [
    "TP=conf_mat[0,0]\n",
    "TN=conf_mat[1,1]\n",
    "FP=conf_mat[0,1]\n",
    "FN=conf_mat[1,0]\n",
    "\n",
    "pre_a=(TP/(TP+FP))\n",
    "recall_a=(TP/(TP+FN))\n",
    "f1_a=(2*TP/(2*TP+FN+FP))\n",
    "acc_a=((TP+TN)/np.sum(conf_mat))\n",
    "\n",
    "conf_mat,pre_a,recall_a,f1_a,acc_a"
   ]
  },
  {
   "cell_type": "code",
   "execution_count": null,
   "metadata": {},
   "outputs": [],
   "source": []
  }
 ],
 "metadata": {
  "kernelspec": {
   "display_name": "Python 3",
   "language": "python",
   "name": "python3"
  },
  "language_info": {
   "codemirror_mode": {
    "name": "ipython",
    "version": 3
   },
   "file_extension": ".py",
   "mimetype": "text/x-python",
   "name": "python",
   "nbconvert_exporter": "python",
   "pygments_lexer": "ipython3",
   "version": "3.7.4"
  }
 },
 "nbformat": 4,
 "nbformat_minor": 2
}
